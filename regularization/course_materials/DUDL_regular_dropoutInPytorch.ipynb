{
 "nbformat": 4,
 "nbformat_minor": 0,
 "metadata": {
  "colab": {
   "name": "DUDL_regular_dropoutInPytorch.ipynb",
   "provenance": [
    {
     "file_id": "17KCLWj5_rIPAJqSQ1dJFAkSrJ7ctDwne",
     "timestamp": 1616945891013
    },
    {
     "file_id": "1bv1_y32e3KEExFKKlPfC3rpw1JxmBr8H",
     "timestamp": 1616941708388
    },
    {
     "file_id": "1GMq8u7KyHB2AE7Teyls9gK1T01OduQSn",
     "timestamp": 1616697516760
    },
    {
     "file_id": "1Ui3kyHim-e0XLgDs2mkBxVlYg7TKYtcg",
     "timestamp": 1616615469755
    },
    {
     "file_id": "1YpHocGI4rApOxIBb1ZghCU5L-hFnv4CK",
     "timestamp": 1616608248670
    }
   ],
   "collapsed_sections": [],
   "authorship_tag": "ABX9TyOLdTgViM3bQDslDQDqBhQV"
  },
  "kernelspec": {
   "name": "python3",
   "language": "python",
   "display_name": "Python 3 (ipykernel)"
  }
 },
 "cells": [
  {
   "cell_type": "markdown",
   "metadata": {
    "id": "bhWV8oes-wKR"
   },
   "source": [
    "# COURSE: A deep understanding of deep learning\n",
    "## SECTION: Regularization\n",
    "### LECTURE: Dropout regularization in practice\n",
    "#### TEACHER: Mike X Cohen, sincxpress.com\n",
    "##### COURSE URL: udemy.com/course/deeplearning_x/?couponCode=202305"
   ]
  },
  {
   "cell_type": "code",
   "metadata": {
    "id": "YeuAheYyhdZw",
    "ExecuteTime": {
     "end_time": "2023-11-23T13:11:04.082642698Z",
     "start_time": "2023-11-23T13:11:04.026842786Z"
    }
   },
   "source": [
    "# import libraries\n",
    "import torch\n",
    "import torch.nn as nn\n",
    "import torch.nn.functional as F"
   ],
   "execution_count": 8,
   "outputs": []
  },
  {
   "cell_type": "markdown",
   "metadata": {
    "id": "OAw7w-Is8quO"
   },
   "source": [
    "# Using dropout"
   ]
  },
  {
   "cell_type": "code",
   "metadata": {
    "id": "PakwZXu08s6B",
    "ExecuteTime": {
     "end_time": "2023-11-23T13:11:04.148516287Z",
     "start_time": "2023-11-23T13:11:04.072539946Z"
    }
   },
   "source": [
    "# define a dropout instance and make some data\n",
    "prob = .5\n",
    "\n",
    "dropout = nn.Dropout(p=prob)\n",
    "x = torch.ones(10)\n",
    "\n",
    "# let's see what dropout returns\n",
    "y = dropout(x)\n",
    "print(x)\n",
    "print(y)\n",
    "print(torch.mean(y))"
   ],
   "execution_count": 9,
   "outputs": [
    {
     "name": "stdout",
     "output_type": "stream",
     "text": [
      "tensor([1., 1., 1., 1., 1., 1., 1., 1., 1., 1.])\n",
      "tensor([2., 2., 2., 0., 0., 0., 2., 2., 0., 0.])\n",
      "tensor(1.)\n"
     ]
    }
   ]
  },
  {
   "cell_type": "code",
   "metadata": {
    "id": "hnsHnDFjVQ6i",
    "ExecuteTime": {
     "end_time": "2023-11-23T13:11:04.149110983Z",
     "start_time": "2023-11-23T13:11:04.072784991Z"
    }
   },
   "source": [
    "# dropout is turned off when evaluating the model\n",
    "dropout.eval()\n",
    "y = dropout(x)\n",
    "print(y)\n",
    "print(torch.mean(y))"
   ],
   "execution_count": 10,
   "outputs": [
    {
     "name": "stdout",
     "output_type": "stream",
     "text": [
      "tensor([1., 1., 1., 1., 1., 1., 1., 1., 1., 1.])\n",
      "tensor(1.)\n"
     ]
    }
   ]
  },
  {
   "cell_type": "code",
   "metadata": {
    "id": "5bY95mSjVYvA",
    "ExecuteTime": {
     "end_time": "2023-11-23T13:11:04.149619117Z",
     "start_time": "2023-11-23T13:11:04.073004771Z"
    }
   },
   "source": [
    "# annoyingly, F.dropout() is not deactivated in eval mode:\n",
    "\n",
    "dropout.eval()\n",
    "y = F.dropout(x)\n",
    "print(y)\n",
    "print(torch.mean(y))"
   ],
   "execution_count": 11,
   "outputs": [
    {
     "name": "stdout",
     "output_type": "stream",
     "text": [
      "tensor([2., 0., 2., 2., 0., 0., 0., 2., 2., 2.])\n",
      "tensor(1.2000)\n"
     ]
    }
   ]
  },
  {
   "cell_type": "code",
   "metadata": {
    "id": "Aa-GvWSLXcH8",
    "ExecuteTime": {
     "end_time": "2023-11-23T13:11:04.150133808Z",
     "start_time": "2023-11-23T13:11:04.073197943Z"
    }
   },
   "source": [
    "# but you can manually switch it off\n",
    "\n",
    "y = F.dropout(x, training=False)\n",
    "\n",
    "print(y)\n",
    "print(torch.mean(y))"
   ],
   "execution_count": 12,
   "outputs": [
    {
     "name": "stdout",
     "output_type": "stream",
     "text": [
      "tensor([1., 1., 1., 1., 1., 1., 1., 1., 1., 1.])\n",
      "tensor(1.)\n"
     ]
    }
   ]
  },
  {
   "cell_type": "code",
   "metadata": {
    "id": "J_BFJYeTU_ak",
    "ExecuteTime": {
     "end_time": "2023-11-23T13:11:04.150639915Z",
     "start_time": "2023-11-23T13:11:04.073386778Z"
    }
   },
   "source": [
    "# the model needs to be reset after toggling into eval mode\n",
    "\n",
    "dropout.train()\n",
    "y = dropout(x)\n",
    "print(y)  # with dropout\n",
    "\n",
    "dropout.eval()\n",
    "y = dropout(x)\n",
    "print(y)  # without dropout\n",
    "\n",
    "# dropout.train()\n",
    "y = dropout(x)\n",
    "print(y)  # still w/o dropout ;)"
   ],
   "execution_count": 13,
   "outputs": [
    {
     "name": "stdout",
     "output_type": "stream",
     "text": [
      "tensor([0., 2., 0., 0., 2., 2., 2., 0., 0., 0.])\n",
      "tensor([1., 1., 1., 1., 1., 1., 1., 1., 1., 1.])\n",
      "tensor([1., 1., 1., 1., 1., 1., 1., 1., 1., 1.])\n"
     ]
    }
   ]
  },
  {
   "cell_type": "code",
   "metadata": {
    "id": "eVXa_1zZkvbm",
    "ExecuteTime": {
     "end_time": "2023-11-23T13:11:04.150967455Z",
     "start_time": "2023-11-23T13:11:04.073747982Z"
    }
   },
   "source": [],
   "execution_count": 13,
   "outputs": []
  }
 ]
}
