{
 "nbformat": 4,
 "nbformat_minor": 0,
 "metadata": {
  "colab": {
   "name": "DUDL_ANN_numParameters.ipynb",
   "provenance": [
    {
     "file_id": "1Q_oDw0aMA4QFKDnLxuqJp62P8oPMtO1R",
     "timestamp": 1618255245074
    },
    {
     "file_id": "1FtQ99beHYcDFDywLdaPgFm-KjBeI8PvD",
     "timestamp": 1615884593383
    }
   ],
   "collapsed_sections": [],
   "authorship_tag": "ABX9TyNp0/OYNZqgbUCz8Xrl2dyW"
  },
  "kernelspec": {
   "name": "python3",
   "language": "python",
   "display_name": "Python 3 (ipykernel)"
  }
 },
 "cells": [
  {
   "cell_type": "markdown",
   "metadata": {
    "id": "bhWV8oes-wKR"
   },
   "source": [
    "# COURSE: A deep understanding of deep learning\n",
    "## SECTION: ANNs\n",
    "### LECTURE: Depth vs. breadth: number of parameters\n",
    "#### TEACHER: Mike X Cohen, sincxpress.com\n",
    "##### COURSE URL: udemy.com/course/deeplearning_x/?couponCode=202305"
   ]
  },
  {
   "cell_type": "code",
   "metadata": {
    "id": "j7-LiwqUMGYL",
    "ExecuteTime": {
     "end_time": "2023-11-17T15:51:55.626020112Z",
     "start_time": "2023-11-17T15:51:54.435035902Z"
    }
   },
   "source": [
    "# import libraries\n",
    "import numpy as np\n",
    "import torch\n",
    "import torch.nn as nn"
   ],
   "execution_count": 1,
   "outputs": []
  },
  {
   "cell_type": "code",
   "metadata": {
    "id": "krQeh5wYMNla",
    "ExecuteTime": {
     "end_time": "2023-11-17T15:52:05.709643439Z",
     "start_time": "2023-11-17T15:52:05.692157727Z"
    }
   },
   "source": [
    "# build two models\n",
    "\n",
    "widenet = nn.Sequential(\n",
    "    nn.Linear(2, 4),  # hidden layer\n",
    "    nn.Linear(4, 3),  # output layer\n",
    ")\n",
    "\n",
    "deepnet = nn.Sequential(\n",
    "    nn.Linear(2, 2),  # hidden layer\n",
    "    nn.Linear(2, 2),  # hidden layer\n",
    "    nn.Linear(2, 3),  # output layer\n",
    ")\n",
    "\n",
    "# print them out to have a look\n",
    "print(widenet)\n",
    "print(' ')\n",
    "print(deepnet)"
   ],
   "execution_count": 2,
   "outputs": [
    {
     "name": "stdout",
     "output_type": "stream",
     "text": [
      "Sequential(\n",
      "  (0): Linear(in_features=2, out_features=4, bias=True)\n",
      "  (1): Linear(in_features=4, out_features=3, bias=True)\n",
      ")\n",
      " \n",
      "Sequential(\n",
      "  (0): Linear(in_features=2, out_features=2, bias=True)\n",
      "  (1): Linear(in_features=2, out_features=2, bias=True)\n",
      "  (2): Linear(in_features=2, out_features=3, bias=True)\n",
      ")\n"
     ]
    }
   ]
  },
  {
   "cell_type": "markdown",
   "metadata": {
    "id": "ni8L4jRgopMO"
   },
   "source": [
    "# Peeking inside the network"
   ]
  },
  {
   "cell_type": "code",
   "metadata": {
    "id": "lrKmii4Xmx-Z",
    "ExecuteTime": {
     "end_time": "2023-11-17T15:55:55.135380978Z",
     "start_time": "2023-11-17T15:55:55.087248681Z"
    }
   },
   "source": [
    "# check out the parameters\n",
    "for p in deepnet.named_parameters():\n",
    "    print(p)\n",
    "    print(' ')"
   ],
   "execution_count": 3,
   "outputs": [
    {
     "name": "stdout",
     "output_type": "stream",
     "text": [
      "('0.weight', Parameter containing:\n",
      "tensor([[ 0.1277, -0.6143],\n",
      "        [ 0.1280, -0.5710]], requires_grad=True))\n",
      " \n",
      "('0.bias', Parameter containing:\n",
      "tensor([-0.4916, -0.6252], requires_grad=True))\n",
      " \n",
      "('1.weight', Parameter containing:\n",
      "tensor([[ 0.4578,  0.2879],\n",
      "        [ 0.6127, -0.0146]], requires_grad=True))\n",
      " \n",
      "('1.bias', Parameter containing:\n",
      "tensor([-0.7051, -0.6852], requires_grad=True))\n",
      " \n",
      "('2.weight', Parameter containing:\n",
      "tensor([[-0.4974,  0.1828],\n",
      "        [ 0.6582,  0.1277],\n",
      "        [-0.6517,  0.2251]], requires_grad=True))\n",
      " \n",
      "('2.bias', Parameter containing:\n",
      "tensor([-0.6877, -0.1765, -0.1066], requires_grad=True))\n",
      " \n"
     ]
    }
   ]
  },
  {
   "cell_type": "code",
   "metadata": {
    "id": "I811amwtouaY",
    "ExecuteTime": {
     "end_time": "2023-11-17T15:57:51.743049840Z",
     "start_time": "2023-11-17T15:57:51.689721623Z"
    }
   },
   "source": [
    "# count the number of nodes ( = the number of biases)\n",
    "\n",
    "# named_parameters() is an iterable that returns the tuple (name,numbers)\n",
    "numNodesInWide = 0\n",
    "for p in widenet.named_parameters():\n",
    "    if 'bias' in p[0]:\n",
    "        numNodesInWide += len(p[1])\n",
    "\n",
    "numNodesInDeep = 0\n",
    "for paramName, paramVect in deepnet.named_parameters():\n",
    "    if 'bias' in paramName:\n",
    "        numNodesInDeep += len(paramVect)\n",
    "\n",
    "print('There are %s nodes in the wide network.' % numNodesInWide)\n",
    "print('There are %s nodes in the deep network.' % numNodesInDeep)"
   ],
   "execution_count": 4,
   "outputs": [
    {
     "name": "stdout",
     "output_type": "stream",
     "text": [
      "There are 7 nodes in the wide network.\n",
      "There are 7 nodes in the deep network.\n"
     ]
    }
   ]
  },
  {
   "cell_type": "code",
   "metadata": {
    "id": "FVuYUMy7spW9"
   },
   "source": [
    "# just the parameters\n",
    "for p in widenet.parameters():\n",
    "    print(p)\n",
    "    print(' ')"
   ],
   "execution_count": null,
   "outputs": []
  },
  {
   "cell_type": "code",
   "metadata": {
    "id": "xtTwxsVhirEq",
    "ExecuteTime": {
     "end_time": "2023-11-17T15:58:59.656405410Z",
     "start_time": "2023-11-17T15:58:59.609384644Z"
    }
   },
   "source": [
    "# now count the total number of trainable parameters\n",
    "nparams = 0\n",
    "for p in widenet.parameters():\n",
    "    if p.requires_grad:\n",
    "        print('This piece has %s parameters' % p.numel())\n",
    "        nparams += p.numel()\n",
    "\n",
    "print('\\n\\nTotal of %s parameters' % nparams)"
   ],
   "execution_count": 5,
   "outputs": [
    {
     "name": "stdout",
     "output_type": "stream",
     "text": [
      "This piece has 8 parameters\n",
      "This piece has 4 parameters\n",
      "This piece has 12 parameters\n",
      "This piece has 3 parameters\n",
      "\n",
      "\n",
      "Total of 27 parameters\n"
     ]
    }
   ]
  },
  {
   "cell_type": "code",
   "metadata": {
    "id": "PKr2ARdWivz8",
    "ExecuteTime": {
     "end_time": "2023-11-17T16:00:13.867756005Z",
     "start_time": "2023-11-17T16:00:13.823911110Z"
    }
   },
   "source": [
    "# btw, can also use list comprehension\n",
    "\n",
    "nparams = np.sum([p.numel() for p in widenet.parameters() if p.requires_grad])\n",
    "print('Widenet has %s parameters' % nparams)\n",
    "\n",
    "nparams = np.sum([p.numel() for p in deepnet.parameters() if p.requires_grad])\n",
    "print('Deepnet has %s parameters' % nparams)"
   ],
   "execution_count": 6,
   "outputs": [
    {
     "name": "stdout",
     "output_type": "stream",
     "text": [
      "Widenet has 27 parameters\n",
      "Deepnet has 21 parameters\n"
     ]
    }
   ]
  },
  {
   "cell_type": "code",
   "metadata": {
    "id": "_6GzhyxLUrYy",
    "ExecuteTime": {
     "end_time": "2023-11-17T16:06:42.101308013Z",
     "start_time": "2023-11-17T16:06:30.767056541Z"
    }
   },
   "source": [
    "# A nice simple way to print out the model info.\n",
    "from torchinfo import summary\n",
    "\n",
    "summary(widenet, (1, 2))\n",
    "\n",
    "### NOTE ABOUT THE CODE IN THIS CELL:\n",
    "# torchsummary is being replaced by torchinfo.\n",
    "# If you are importing these libraries on your own (via pip), then see the following website:\n",
    "#        https://pypi.org/project/torch-summary/\n",
    "# However, torchsummary will continue to be supported, so if the code in this cell works (meaning torchsummary is already installed), \n",
    "# then you don't need to do anything!"
   ],
   "execution_count": 9,
   "outputs": [
    {
     "data": {
      "text/plain": "==========================================================================================\nLayer (type:depth-idx)                   Output Shape              Param #\n==========================================================================================\nSequential                               [1, 3]                    --\n├─Linear: 1-1                            [1, 4]                    12\n├─Linear: 1-2                            [1, 3]                    15\n==========================================================================================\nTotal params: 27\nTrainable params: 27\nNon-trainable params: 0\nTotal mult-adds (Units.MEGABYTES): 0.00\n==========================================================================================\nInput size (MB): 0.00\nForward/backward pass size (MB): 0.00\nParams size (MB): 0.00\nEstimated Total Size (MB): 0.00\n=========================================================================================="
     },
     "execution_count": 9,
     "metadata": {},
     "output_type": "execute_result"
    }
   ]
  }
 ]
}
