{
 "nbformat": 4,
 "nbformat_minor": 0,
 "metadata": {
  "colab": {
   "name": "DUDL_overfitting_manual.ipynb",
   "provenance": [
    {
     "file_id": "1YpHocGI4rApOxIBb1ZghCU5L-hFnv4CK",
     "timestamp": 1616608248670
    }
   ],
   "collapsed_sections": [],
   "authorship_tag": "ABX9TyNk9aAiPToKpfieCvxrzbDR"
  },
  "kernelspec": {
   "name": "python3",
   "language": "python",
   "display_name": "Python 3 (ipykernel)"
  }
 },
 "cells": [
  {
   "cell_type": "markdown",
   "metadata": {
    "id": "bhWV8oes-wKR"
   },
   "source": [
    "# COURSE: A deep understanding of deep learning\n",
    "## SECTION: Overfitting, cross-validation, regularization\n",
    "### LECTURE: Cross-validation -- manual separation\n",
    "#### TEACHER: Mike X Cohen, sincxpress.com\n",
    "##### COURSE URL: udemy.com/course/deeplearning_x/?couponCode=202305"
   ]
  },
  {
   "cell_type": "code",
   "metadata": {
    "id": "YeuAheYyhdZw",
    "ExecuteTime": {
     "end_time": "2023-11-18T15:58:57.404840500Z",
     "start_time": "2023-11-18T15:58:57.319129622Z"
    }
   },
   "source": [
    "# import libraries\n",
    "import torch\n",
    "import torch.nn as nn\n",
    "import numpy as np"
   ],
   "execution_count": 45,
   "outputs": []
  },
  {
   "cell_type": "code",
   "metadata": {
    "id": "MU7rvmWuhjud",
    "ExecuteTime": {
     "end_time": "2023-11-18T15:58:57.423416594Z",
     "start_time": "2023-11-18T15:58:57.332821146Z"
    }
   },
   "source": [
    "# import dataset (comes with seaborn)\n",
    "import seaborn as sns\n",
    "\n",
    "iris = sns.load_dataset('iris')\n",
    "\n",
    "# convert from pandas dataframe to tensor\n",
    "data = torch.tensor(iris[iris.columns[0:4]].values).float()\n",
    "\n",
    "# transform species to number\n",
    "labels = torch.zeros(len(data), dtype=torch.long)\n",
    "# labels[iris.species=='setosa'] = 0 # don't need!\n",
    "labels[iris.species == 'versicolor'] = 1\n",
    "labels[iris.species == 'virginica'] = 2"
   ],
   "execution_count": 46,
   "outputs": []
  },
  {
   "cell_type": "markdown",
   "metadata": {
    "id": "JiAFAHB20DQc"
   },
   "source": [
    "# Separate data into train and test"
   ]
  },
  {
   "cell_type": "code",
   "metadata": {
    "id": "mwhgV43SXbCN",
    "ExecuteTime": {
     "end_time": "2023-11-18T15:58:57.425521820Z",
     "start_time": "2023-11-18T15:58:57.383731055Z"
    }
   },
   "source": [
    "#  (no devset here)\n",
    "\n",
    "# how many training examples\n",
    "propTraining = .8  # in proportion, not percent\n",
    "nTraining = int(len(labels) * propTraining)\n",
    "\n",
    "# initialize a boolean vector to select data and labels\n",
    "traintestBool = np.zeros(len(labels), dtype=bool)\n",
    "\n",
    "# is this the correct way to select samples?\n",
    "# traintestBool[range(nTraining)] = True\n",
    "\n",
    "# this is better, but why?\n",
    "items2use4train = np.random.choice(range(len(labels)), nTraining, replace=False)\n",
    "traintestBool[items2use4train] = True\n",
    "\n",
    "traintestBool"
   ],
   "execution_count": 47,
   "outputs": [
    {
     "data": {
      "text/plain": "array([ True, False, False,  True, False,  True,  True,  True,  True,\n       False, False,  True,  True,  True,  True,  True,  True,  True,\n        True,  True,  True,  True,  True,  True,  True,  True,  True,\n       False,  True, False,  True,  True,  True,  True,  True,  True,\n        True, False,  True,  True, False,  True,  True,  True,  True,\n        True,  True, False, False,  True,  True,  True,  True,  True,\n        True,  True,  True,  True, False,  True, False,  True,  True,\n        True,  True,  True,  True,  True,  True,  True,  True, False,\n       False,  True,  True,  True,  True, False,  True,  True,  True,\n        True, False,  True, False,  True, False,  True,  True,  True,\n        True,  True,  True,  True,  True,  True,  True, False,  True,\n       False,  True,  True,  True, False,  True, False,  True,  True,\n        True,  True, False,  True,  True,  True, False, False,  True,\n       False,  True,  True,  True, False,  True,  True,  True,  True,\n        True,  True,  True,  True,  True, False,  True,  True,  True,\n        True,  True,  True,  True,  True,  True,  True,  True,  True,\n        True,  True,  True, False,  True,  True])"
     },
     "execution_count": 47,
     "metadata": {},
     "output_type": "execute_result"
    }
   ]
  },
  {
   "cell_type": "code",
   "metadata": {
    "id": "LPcj_f92bYs0",
    "ExecuteTime": {
     "end_time": "2023-11-18T15:58:57.426100777Z",
     "start_time": "2023-11-18T15:58:57.383993223Z"
    }
   },
   "source": [
    "# test whether it's balanced\n",
    "print('Average of full data:')\n",
    "print(torch.mean(labels.float()))  # =1 by definition\n",
    "print(' ')\n",
    "\n",
    "print('Average of training data:')\n",
    "print(torch.mean(labels[traintestBool].float()))  # should be 1...\n",
    "print(' ')\n",
    "\n",
    "print('Average of test data:')\n",
    "print(torch.mean(labels[~traintestBool].float()))  # should also be 1..."
   ],
   "execution_count": 48,
   "outputs": [
    {
     "name": "stdout",
     "output_type": "stream",
     "text": [
      "Average of full data:\n",
      "tensor(1.)\n",
      " \n",
      "Average of training data:\n",
      "tensor(1.0167)\n",
      " \n",
      "Average of test data:\n",
      "tensor(0.9333)\n"
     ]
    }
   ]
  },
  {
   "cell_type": "code",
   "metadata": {
    "id": "v0JMIGb1iV_9",
    "ExecuteTime": {
     "end_time": "2023-11-18T15:58:57.426403248Z",
     "start_time": "2023-11-18T15:58:57.384168327Z"
    }
   },
   "source": [
    "# create the ANN model\n",
    "\n",
    "# model architecture\n",
    "ANNiris = nn.Sequential(\n",
    "    nn.Linear(4, 64),  # input layer\n",
    "    nn.ReLU(),  # activation unit\n",
    "    nn.Linear(64, 64),  # hidden layer\n",
    "    nn.ReLU(),  # activation unit\n",
    "    nn.Linear(64, 3),  # output units\n",
    ")\n",
    "\n",
    "# loss function\n",
    "lossfun = nn.CrossEntropyLoss()\n",
    "\n",
    "# optimizer\n",
    "optimizer = torch.optim.SGD(ANNiris.parameters(), lr=.01)"
   ],
   "execution_count": 49,
   "outputs": []
  },
  {
   "cell_type": "code",
   "metadata": {
    "id": "iyxr6_P9b-x5",
    "ExecuteTime": {
     "end_time": "2023-11-18T15:58:57.426932443Z",
     "start_time": "2023-11-18T15:58:57.384311317Z"
    }
   },
   "source": [
    "# entire dataset\n",
    "print(data.shape)\n",
    "\n",
    "# training set\n",
    "print(data[traintestBool, :].shape)\n",
    "\n",
    "# test set\n",
    "print(data[~traintestBool, :].shape)"
   ],
   "execution_count": 50,
   "outputs": [
    {
     "name": "stdout",
     "output_type": "stream",
     "text": [
      "torch.Size([150, 4])\n",
      "torch.Size([120, 4])\n",
      "torch.Size([30, 4])\n"
     ]
    }
   ]
  },
  {
   "cell_type": "markdown",
   "metadata": {
    "id": "bbx3Zkc_0UT8"
   },
   "source": [
    "# Train and test the model"
   ]
  },
  {
   "cell_type": "code",
   "metadata": {
    "id": "cVD1nFTli7TO",
    "ExecuteTime": {
     "end_time": "2023-11-18T15:58:58.186873764Z",
     "start_time": "2023-11-18T15:58:57.384480208Z"
    }
   },
   "source": [
    "# train the model\n",
    "\n",
    "numepochs = 1000\n",
    "\n",
    "# initialize losses\n",
    "losses = torch.zeros(numepochs)\n",
    "ongoingAcc = []\n",
    "\n",
    "# loop over epochs\n",
    "for epochi in range(numepochs):\n",
    "    # forward pass\n",
    "    yHat = ANNiris(data[traintestBool, :])\n",
    "\n",
    "    # compute accuracy (note: denser than previous code!)\n",
    "    ongoingAcc.append(100 * torch.mean(\n",
    "        (torch.argmax(yHat, axis=1) == labels[traintestBool]).float()))\n",
    "\n",
    "    # compute loss\n",
    "    loss = lossfun(yHat, labels[traintestBool])\n",
    "    losses[epochi] = loss\n",
    "\n",
    "    # backprop\n",
    "    optimizer.zero_grad()\n",
    "    loss.backward()\n",
    "    optimizer.step()"
   ],
   "execution_count": 51,
   "outputs": []
  },
  {
   "cell_type": "code",
   "metadata": {
    "id": "vXku7xIdcu7Y",
    "ExecuteTime": {
     "end_time": "2023-11-18T15:58:58.196673511Z",
     "start_time": "2023-11-18T15:58:58.188860508Z"
    }
   },
   "source": [
    "# compute train and test accuracies\n",
    "\n",
    "# final forward pass USING TRAINING DATA\n",
    "predictions = ANNiris(data[traintestBool, :])\n",
    "trainacc = 100 * torch.mean((torch.argmax(predictions, axis=1) == labels[traintestBool]).float())\n",
    "\n",
    "# final forward pass USING TEST DATA!\n",
    "predictions = ANNiris(data[~traintestBool, :])\n",
    "testacc = 100 * torch.mean((torch.argmax(predictions, axis=1) == labels[~traintestBool]).float())"
   ],
   "execution_count": 52,
   "outputs": []
  },
  {
   "cell_type": "code",
   "metadata": {
    "id": "JYouZAY4i3jM",
    "ExecuteTime": {
     "end_time": "2023-11-18T15:58:58.205703825Z",
     "start_time": "2023-11-18T15:58:58.194839889Z"
    }
   },
   "source": [
    "# report accuracies\n",
    "\n",
    "print('Final TRAIN accuracy: %g%%' % trainacc)\n",
    "print('Final TEST accuracy:  %g%%' % testacc)"
   ],
   "execution_count": 53,
   "outputs": [
    {
     "name": "stdout",
     "output_type": "stream",
     "text": [
      "Final TRAIN accuracy: 98.3333%\n",
      "Final TEST accuracy:  96.6667%\n"
     ]
    }
   ]
  },
  {
   "cell_type": "code",
   "metadata": {
    "id": "kcbD9nZmd9nu",
    "ExecuteTime": {
     "end_time": "2023-11-18T15:58:58.245866692Z",
     "start_time": "2023-11-18T15:58:58.243662508Z"
    }
   },
   "source": [
    "# normally also inspect losses and accuracy by epoch, etc. etc. etc."
   ],
   "execution_count": 54,
   "outputs": []
  },
  {
   "cell_type": "code",
   "metadata": {
    "id": "MAzQqbq8fqSt",
    "ExecuteTime": {
     "end_time": "2023-11-18T15:58:58.246151636Z",
     "start_time": "2023-11-18T15:58:58.243960939Z"
    }
   },
   "source": [],
   "execution_count": 54,
   "outputs": []
  },
  {
   "cell_type": "markdown",
   "metadata": {
    "id": "jwTbABK7fqzZ"
   },
   "source": [
    "# Additional explorations"
   ]
  },
  {
   "cell_type": "code",
   "metadata": {
    "id": "jWC_SDDCfrAo",
    "ExecuteTime": {
     "end_time": "2023-11-18T15:58:58.246350355Z",
     "start_time": "2023-11-18T15:58:58.244148636Z"
    }
   },
   "source": [
    "# 1) Randomly assigning data samples to be in the train vs test phase produced a statistical balance, but it was \n",
    "#    not perfect. Write an algorithm that will guarantee a balance of flower types while also randomly assigning\n",
    "#    samples to be in train vs. test.\n",
    "# \n",
    "# 2) Revert the code to its original form -- with the strong imbalance in flower types. Then train the model. What are\n",
    "#    the train and test accuracies? Compute the accuracy separately for each type of flower to see whether the model\n",
    "#    learned some categories, or whether it performed equally on all three categories. Are you surprised at the results? \n",
    "# "
   ],
   "execution_count": 55,
   "outputs": []
  }
 ]
}
