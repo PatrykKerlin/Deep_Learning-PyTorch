{
 "nbformat": 4,
 "nbformat_minor": 0,
 "metadata": {
  "colab": {
   "name": "DUDL_overfitting_dataLoader.ipynb",
   "provenance": [
    {
     "file_id": "1GMq8u7KyHB2AE7Teyls9gK1T01OduQSn",
     "timestamp": 1616697516760
    },
    {
     "file_id": "1Ui3kyHim-e0XLgDs2mkBxVlYg7TKYtcg",
     "timestamp": 1616615469755
    },
    {
     "file_id": "1YpHocGI4rApOxIBb1ZghCU5L-hFnv4CK",
     "timestamp": 1616608248670
    }
   ],
   "collapsed_sections": [],
   "authorship_tag": "ABX9TyMW1OqO2AtUHsx15bm8vDS1"
  },
  "kernelspec": {
   "name": "python3",
   "language": "python",
   "display_name": "Python 3 (ipykernel)"
  }
 },
 "cells": [
  {
   "cell_type": "markdown",
   "metadata": {
    "id": "bhWV8oes-wKR"
   },
   "source": [
    "# COURSE: A deep understanding of deep learning\n",
    "## SECTION: Overfitting, cross-validation, regularization\n",
    "### LECTURE: Cross-validation -- DataLoader\n",
    "#### TEACHER: Mike X Cohen, sincxpress.com\n",
    "##### COURSE URL: udemy.com/course/deeplearning_x/?couponCode=202305"
   ]
  },
  {
   "cell_type": "code",
   "metadata": {
    "id": "YeuAheYyhdZw",
    "ExecuteTime": {
     "end_time": "2023-11-22T16:31:14.056407650Z",
     "start_time": "2023-11-22T16:31:13.994174913Z"
    }
   },
   "source": [
    "# import libraries\n",
    "import torch\n",
    "import torch.nn as nn\n",
    "import numpy as np\n",
    "import matplotlib.pyplot as plt\n",
    "from sklearn.model_selection import train_test_split\n",
    "\n",
    "# new!\n",
    "from torch.utils.data import DataLoader, TensorDataset"
   ],
   "execution_count": 48,
   "outputs": []
  },
  {
   "cell_type": "code",
   "metadata": {
    "id": "MU7rvmWuhjud",
    "ExecuteTime": {
     "end_time": "2023-11-22T16:31:14.097628926Z",
     "start_time": "2023-11-22T16:31:14.001001163Z"
    }
   },
   "source": [
    "# import dataset (comes with seaborn)\n",
    "import seaborn as sns\n",
    "\n",
    "iris = sns.load_dataset('iris')\n",
    "\n",
    "# convert from pandas dataframe to tensor\n",
    "data = torch.tensor(iris[iris.columns[0:4]].values).float()\n",
    "\n",
    "# transform species to number\n",
    "labels = torch.zeros(len(data), dtype=torch.long)\n",
    "# labels[iris.species=='setosa'] = 0 # don't need!\n",
    "labels[iris.species == 'versicolor'] = 1\n",
    "labels[iris.species == 'virginica'] = 2"
   ],
   "execution_count": 49,
   "outputs": []
  },
  {
   "cell_type": "markdown",
   "metadata": {
    "id": "UhkvsJ6g6uXr"
   },
   "source": [
    "# A brief aside on using DataLoader"
   ]
  },
  {
   "cell_type": "code",
   "metadata": {
    "id": "q-YUb7pW19yy",
    "ExecuteTime": {
     "end_time": "2023-11-22T16:31:14.300919110Z",
     "start_time": "2023-11-22T16:31:14.011847556Z"
    }
   },
   "source": [
    "# create our fake dataset\n",
    "\n",
    "fakedata = np.tile(np.array([1, 2, 3, 4]), (10, 1)) + np.tile(10 * np.arange(1, 11), (4, 1)).T\n",
    "fakelabels = np.arange(10) > 4\n",
    "print(fakedata), print(' ')\n",
    "print(fakelabels)"
   ],
   "execution_count": 50,
   "outputs": [
    {
     "name": "stdout",
     "output_type": "stream",
     "text": [
      "[[ 11  12  13  14]\n",
      " [ 21  22  23  24]\n",
      " [ 31  32  33  34]\n",
      " [ 41  42  43  44]\n",
      " [ 51  52  53  54]\n",
      " [ 61  62  63  64]\n",
      " [ 71  72  73  74]\n",
      " [ 81  82  83  84]\n",
      " [ 91  92  93  94]\n",
      " [101 102 103 104]]\n",
      " \n",
      "[False False False False False  True  True  True  True  True]\n"
     ]
    }
   ]
  },
  {
   "cell_type": "code",
   "metadata": {
    "id": "NHmo6JauuDC9",
    "ExecuteTime": {
     "end_time": "2023-11-22T16:31:14.301716739Z",
     "start_time": "2023-11-22T16:31:14.060696153Z"
    }
   },
   "source": [
    "# dataloader object with all data\n",
    "fakedataLdr = DataLoader(fakedata, shuffle=True)\n",
    "print(fakedataLdr)\n",
    "print(fakedataLdr.batch_size)"
   ],
   "execution_count": 51,
   "outputs": [
    {
     "name": "stdout",
     "output_type": "stream",
     "text": [
      "<torch.utils.data.dataloader.DataLoader object at 0x7fc09c3c1950>\n",
      "1\n"
     ]
    }
   ]
  },
  {
   "cell_type": "code",
   "metadata": {
    "id": "Mhra6BvlyoEf",
    "ExecuteTime": {
     "end_time": "2023-11-22T16:31:14.302336210Z",
     "start_time": "2023-11-22T16:31:14.061026341Z"
    }
   },
   "source": [
    "# iterate through the data\n",
    "for i, oneSample in enumerate(fakedataLdr):\n",
    "    print(i, oneSample, oneSample.shape)\n",
    "\n",
    "# but where are the labels??"
   ],
   "execution_count": 52,
   "outputs": [
    {
     "name": "stdout",
     "output_type": "stream",
     "text": [
      "0 tensor([[21, 22, 23, 24]]) torch.Size([1, 4])\n",
      "1 tensor([[81, 82, 83, 84]]) torch.Size([1, 4])\n",
      "2 tensor([[91, 92, 93, 94]]) torch.Size([1, 4])\n",
      "3 tensor([[51, 52, 53, 54]]) torch.Size([1, 4])\n",
      "4 tensor([[11, 12, 13, 14]]) torch.Size([1, 4])\n",
      "5 tensor([[101, 102, 103, 104]]) torch.Size([1, 4])\n",
      "6 tensor([[41, 42, 43, 44]]) torch.Size([1, 4])\n",
      "7 tensor([[31, 32, 33, 34]]) torch.Size([1, 4])\n",
      "8 tensor([[71, 72, 73, 74]]) torch.Size([1, 4])\n",
      "9 tensor([[61, 62, 63, 64]]) torch.Size([1, 4])\n"
     ]
    }
   ]
  },
  {
   "cell_type": "code",
   "metadata": {
    "id": "MEpWWAY0-rQw",
    "ExecuteTime": {
     "end_time": "2023-11-22T16:31:14.302961223Z",
     "start_time": "2023-11-22T16:31:14.061303251Z"
    }
   },
   "source": [
    "# we need to create a Dataset that contains the data and labels\n",
    "fakeDataset = TensorDataset(torch.Tensor(fakedata), torch.Tensor(fakelabels))\n",
    "print(fakeDataset.tensors), print(' ')\n",
    "\n",
    "# then create another DataLoader\n",
    "fakedataLdr = DataLoader(fakeDataset, shuffle=True)\n",
    "\n",
    "# iterate through the data\n",
    "for dat, lab in fakedataLdr:\n",
    "    print(dat, lab)"
   ],
   "execution_count": 53,
   "outputs": [
    {
     "name": "stdout",
     "output_type": "stream",
     "text": [
      "(tensor([[ 11.,  12.,  13.,  14.],\n",
      "        [ 21.,  22.,  23.,  24.],\n",
      "        [ 31.,  32.,  33.,  34.],\n",
      "        [ 41.,  42.,  43.,  44.],\n",
      "        [ 51.,  52.,  53.,  54.],\n",
      "        [ 61.,  62.,  63.,  64.],\n",
      "        [ 71.,  72.,  73.,  74.],\n",
      "        [ 81.,  82.,  83.,  84.],\n",
      "        [ 91.,  92.,  93.,  94.],\n",
      "        [101., 102., 103., 104.]]), tensor([0., 0., 0., 0., 0., 1., 1., 1., 1., 1.]))\n",
      " \n",
      "tensor([[91., 92., 93., 94.]]) tensor([1.])\n",
      "tensor([[61., 62., 63., 64.]]) tensor([1.])\n",
      "tensor([[11., 12., 13., 14.]]) tensor([0.])\n",
      "tensor([[101., 102., 103., 104.]]) tensor([1.])\n",
      "tensor([[51., 52., 53., 54.]]) tensor([0.])\n",
      "tensor([[81., 82., 83., 84.]]) tensor([1.])\n",
      "tensor([[31., 32., 33., 34.]]) tensor([0.])\n",
      "tensor([[21., 22., 23., 24.]]) tensor([0.])\n",
      "tensor([[71., 72., 73., 74.]]) tensor([1.])\n",
      "tensor([[41., 42., 43., 44.]]) tensor([0.])\n"
     ]
    }
   ]
  },
  {
   "cell_type": "code",
   "metadata": {
    "id": "8bxbHGkP7JW3",
    "ExecuteTime": {
     "end_time": "2023-11-22T16:31:14.319548610Z",
     "start_time": "2023-11-22T16:31:14.061562730Z"
    }
   },
   "source": [
    "# use scikitlearn to split the data\n",
    "train_data, test_data, train_labels, test_labels = train_test_split(fakedata, fakelabels, test_size=.2)\n",
    "\n",
    "# then convert them into PyTorch Datasets\n",
    "train_data = TensorDataset(\n",
    "    torch.Tensor(train_data),\n",
    "    torch.Tensor(train_labels)\n",
    ")\n",
    "\n",
    "test_data = TensorDataset(\n",
    "    torch.Tensor(test_data),\n",
    "    torch.Tensor(test_labels)\n",
    ")\n",
    "\n",
    "# finally, translate into dataloader objects\n",
    "# notice the batches (see next cell)!\n",
    "train_loader = DataLoader(train_data, batch_size=4)\n",
    "test_loader = DataLoader(test_data)"
   ],
   "execution_count": 54,
   "outputs": []
  },
  {
   "cell_type": "code",
   "metadata": {
    "id": "0dtEZQwG626X",
    "ExecuteTime": {
     "end_time": "2023-11-22T16:31:14.320416745Z",
     "start_time": "2023-11-22T16:31:14.061838634Z"
    }
   },
   "source": [
    "# examine the contents of the dataloader (batching is an advantage of dataloader!)\n",
    "print('TRAINING DATA')\n",
    "for batch, label in train_loader:  # iterable\n",
    "    print(batch, label)\n",
    "    print(' ')\n",
    "\n",
    "print(' ')\n",
    "print('TESTING DATA')\n",
    "for batch, label in test_loader:  # iterable\n",
    "    print(batch, label)\n",
    "    print(' ')"
   ],
   "execution_count": 55,
   "outputs": [
    {
     "name": "stdout",
     "output_type": "stream",
     "text": [
      "TRAINING DATA\n",
      "tensor([[21., 22., 23., 24.],\n",
      "        [71., 72., 73., 74.],\n",
      "        [11., 12., 13., 14.],\n",
      "        [51., 52., 53., 54.]]) tensor([0., 1., 0., 0.])\n",
      " \n",
      "tensor([[ 31.,  32.,  33.,  34.],\n",
      "        [101., 102., 103., 104.],\n",
      "        [ 91.,  92.,  93.,  94.],\n",
      "        [ 41.,  42.,  43.,  44.]]) tensor([0., 1., 1., 0.])\n",
      " \n",
      " \n",
      "TESTING DATA\n",
      "tensor([[81., 82., 83., 84.]]) tensor([1.])\n",
      " \n",
      "tensor([[61., 62., 63., 64.]]) tensor([1.])\n",
      " \n"
     ]
    }
   ]
  },
  {
   "cell_type": "markdown",
   "metadata": {
    "id": "S-GvjKA8AesK"
   },
   "source": [
    "# Now back to the real data!"
   ]
  },
  {
   "cell_type": "code",
   "metadata": {
    "id": "OVrlOHYIAg0r",
    "ExecuteTime": {
     "end_time": "2023-11-22T16:31:14.322483128Z",
     "start_time": "2023-11-22T16:31:14.104772179Z"
    }
   },
   "source": [
    "# use scikitlearn to split the data\n",
    "train_data, test_data, train_labels, test_labels = \\\n",
    "    train_test_split(data, labels, train_size=.8)\n",
    "\n",
    "# then convert them into PyTorch Datasets (note: already converted to tensors)\n",
    "train_data = TensorDataset(train_data, train_labels)\n",
    "test_data = TensorDataset(test_data, test_labels)\n",
    "\n",
    "# finally, translate into dataloader objects\n",
    "train_loader = DataLoader(train_data, shuffle=True, batch_size=12)\n",
    "test_loader = DataLoader(test_data, batch_size=test_data.tensors[0].shape[0])"
   ],
   "execution_count": 56,
   "outputs": []
  },
  {
   "cell_type": "code",
   "metadata": {
    "id": "yZUIX6Exdc3m",
    "ExecuteTime": {
     "end_time": "2023-11-22T16:31:14.323716211Z",
     "start_time": "2023-11-22T16:31:14.105052409Z"
    }
   },
   "source": [
    "# check sizes of data batches\n",
    "for X, y in train_loader:\n",
    "    print(X.shape, y.shape)\n",
    "\n",
    "X, y"
   ],
   "execution_count": 57,
   "outputs": [
    {
     "name": "stdout",
     "output_type": "stream",
     "text": [
      "torch.Size([12, 4]) torch.Size([12])\n",
      "torch.Size([12, 4]) torch.Size([12])\n",
      "torch.Size([12, 4]) torch.Size([12])\n",
      "torch.Size([12, 4]) torch.Size([12])\n",
      "torch.Size([12, 4]) torch.Size([12])\n",
      "torch.Size([12, 4]) torch.Size([12])\n",
      "torch.Size([12, 4]) torch.Size([12])\n",
      "torch.Size([12, 4]) torch.Size([12])\n",
      "torch.Size([12, 4]) torch.Size([12])\n",
      "torch.Size([12, 4]) torch.Size([12])\n"
     ]
    },
    {
     "data": {
      "text/plain": "(tensor([[5.9000, 3.0000, 5.1000, 1.8000],\n         [5.5000, 2.6000, 4.4000, 1.2000],\n         [6.7000, 3.0000, 5.0000, 1.7000],\n         [6.7000, 3.1000, 4.4000, 1.4000],\n         [5.7000, 2.5000, 5.0000, 2.0000],\n         [5.0000, 2.3000, 3.3000, 1.0000],\n         [5.1000, 3.8000, 1.6000, 0.2000],\n         [5.8000, 2.7000, 4.1000, 1.0000],\n         [6.5000, 2.8000, 4.6000, 1.5000],\n         [5.6000, 2.7000, 4.2000, 1.3000],\n         [6.3000, 2.9000, 5.6000, 1.8000],\n         [5.7000, 2.6000, 3.5000, 1.0000]]),\n tensor([2, 1, 1, 1, 2, 1, 0, 1, 1, 1, 2, 1]))"
     },
     "execution_count": 57,
     "metadata": {},
     "output_type": "execute_result"
    }
   ]
  },
  {
   "cell_type": "code",
   "metadata": {
    "id": "v0JMIGb1iV_9",
    "ExecuteTime": {
     "end_time": "2023-11-22T16:31:14.324141557Z",
     "start_time": "2023-11-22T16:31:14.105311671Z"
    }
   },
   "source": [
    "# a function that creates the ANN model\n",
    "\n",
    "def createANewModel():\n",
    "    # model architecture\n",
    "    ANNiris = nn.Sequential(\n",
    "        nn.Linear(4, 64),  # input layer\n",
    "        nn.ReLU(),  # activation unit\n",
    "        nn.Linear(64, 64),  # hidden layer\n",
    "        nn.ReLU(),  # activation unit\n",
    "        nn.Linear(64, 3),  # output units\n",
    "    )\n",
    "\n",
    "    # loss function\n",
    "    lossfun = nn.CrossEntropyLoss()\n",
    "\n",
    "    # optimizer\n",
    "    optimizer = torch.optim.SGD(ANNiris.parameters(), lr=.01)\n",
    "\n",
    "    return ANNiris, lossfun, optimizer"
   ],
   "execution_count": 58,
   "outputs": []
  },
  {
   "cell_type": "code",
   "metadata": {
    "id": "cVD1nFTli7TO",
    "ExecuteTime": {
     "end_time": "2023-11-22T16:31:14.324561874Z",
     "start_time": "2023-11-22T16:31:14.105505272Z"
    }
   },
   "source": [
    "# train the model\n",
    "\n",
    "# global parameter\n",
    "numepochs = 100\n",
    "\n",
    "\n",
    "def trainTheModel():\n",
    "    # initialize accuracies as empties (not storing losses here)\n",
    "    trainAcc = []\n",
    "    testAcc = []\n",
    "\n",
    "    # loop over epochs\n",
    "    for epochi in range(numepochs):\n",
    "\n",
    "        # loop over training data batches\n",
    "        batchAcc = []\n",
    "        for X, y in train_loader:\n",
    "            # forward pass and loss\n",
    "            yHat = ANNiris(X)\n",
    "            loss = lossfun(yHat, y)\n",
    "\n",
    "            # backprop\n",
    "            optimizer.zero_grad()\n",
    "            loss.backward()\n",
    "            optimizer.step()\n",
    "\n",
    "            # compute training accuracy just for this batch\n",
    "            batchAcc.append(100 * torch.mean((torch.argmax(yHat, axis=1) == y).float()).item())\n",
    "        # end of batch loop...\n",
    "\n",
    "        # now that we've trained through the batches, get their average training accuracy\n",
    "        trainAcc.append(np.mean(batchAcc))\n",
    "\n",
    "        # test accuracy\n",
    "        X, y = next(iter(test_loader))  # extract X,y from test dataloader\n",
    "        predlabels = torch.argmax(ANNiris(X), axis=1)\n",
    "        testAcc.append(100 * torch.mean((predlabels == y).float()).item())\n",
    "\n",
    "    # function output\n",
    "    return trainAcc, testAcc\n"
   ],
   "execution_count": 59,
   "outputs": []
  },
  {
   "cell_type": "markdown",
   "metadata": {
    "id": "Mqju_wOaQiaa"
   },
   "source": [
    "# Modeling"
   ]
  },
  {
   "cell_type": "code",
   "metadata": {
    "id": "vXku7xIdcu7Y",
    "ExecuteTime": {
     "end_time": "2023-11-22T16:31:15.848690544Z",
     "start_time": "2023-11-22T16:31:14.105730830Z"
    }
   },
   "source": [
    "# create a model\n",
    "ANNiris, lossfun, optimizer = createANewModel()\n",
    "\n",
    "# train the model\n",
    "trainAcc, testAcc = trainTheModel()\n"
   ],
   "execution_count": 60,
   "outputs": []
  },
  {
   "cell_type": "code",
   "metadata": {
    "id": "JYouZAY4i3jM",
    "ExecuteTime": {
     "end_time": "2023-11-22T16:31:16.279660632Z",
     "start_time": "2023-11-22T16:31:15.846083195Z"
    }
   },
   "source": [
    "# plot the results\n",
    "fig = plt.figure(figsize=(10, 5))\n",
    "\n",
    "plt.plot(trainAcc, 'ro-')\n",
    "plt.plot(testAcc, 'bs-')\n",
    "plt.xlabel('Epochs')\n",
    "plt.ylabel('Accuracy (%)')\n",
    "plt.legend(['Train', 'Test'])\n",
    "\n",
    "# optional zoom-in to final epochs\n",
    "# plt.xlim([300,500])\n",
    "# plt.ylim([90,100.5])\n",
    "\n",
    "plt.show()"
   ],
   "execution_count": 61,
   "outputs": [
    {
     "data": {
      "text/plain": "<Figure size 1000x500 with 1 Axes>",
      "image/png": "[encoded data removed]"
     },
     "metadata": {},
     "output_type": "display_data"
    }
   ]
  },
  {
   "cell_type": "code",
   "metadata": {
    "id": "pkrHp6IPZ4U8",
    "ExecuteTime": {
     "end_time": "2023-11-22T16:31:16.280362023Z",
     "start_time": "2023-11-22T16:31:16.270248766Z"
    }
   },
   "source": [],
   "execution_count": 61,
   "outputs": []
  },
  {
   "cell_type": "markdown",
   "metadata": {
    "id": "jjvdKsrdZ4ka"
   },
   "source": [
    "# Additional explorations"
   ]
  },
  {
   "cell_type": "code",
   "metadata": {
    "id": "5EPeV1KZZ42b",
    "ExecuteTime": {
     "end_time": "2023-11-22T16:31:16.283324514Z",
     "start_time": "2023-11-22T16:31:16.276494977Z"
    }
   },
   "source": [
    "# 1) Read the help doc for the train_test_split() function, in particular to understand what the 'shuffle' option does.\n",
    "#    What is the default value? Run the code again, switching the shuffling off. How does that affect model performance? Why?\n",
    "# \n",
    "# 2) The model training loop does not keep track of the losses. Modify the code to store the loss value on each epoch, include\n",
    "#    it as an output of the training function, and then make a plot of the training losses. Try to do it without looking\n",
    "#    at other code files!\n",
    "# "
   ],
   "execution_count": 62,
   "outputs": []
  }
 ]
}
