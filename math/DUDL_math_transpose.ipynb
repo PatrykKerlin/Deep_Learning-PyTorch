{
 "nbformat": 4,
 "nbformat_minor": 0,
 "metadata": {
  "colab": {
   "name": "DUDL_math_transpose.ipynb",
   "provenance": [],
   "collapsed_sections": [],
   "authorship_tag": "ABX9TyMPFaV8b0XTO0Wj7WUXRZkF"
  },
  "kernelspec": {
   "name": "python3",
   "language": "python",
   "display_name": "Python 3 (ipykernel)"
  },
  "language_info": {
   "name": "python"
  }
 },
 "cells": [
  {
   "cell_type": "markdown",
   "metadata": {
    "id": "bhWV8oes-wKR"
   },
   "source": [
    "# COURSE: A deep understanding of deep learning\n",
    "## SECTION: Math prerequisites\n",
    "### LECTURE: Vector and matrix transpose\n",
    "#### TEACHER: Mike X Cohen, sincxpress.com\n",
    "##### COURSE URL: udemy.com/course/deeplearning_x/?couponCode=202305"
   ]
  },
  {
   "cell_type": "code",
   "metadata": {
    "id": "Yx_Rigz1AffS",
    "ExecuteTime": {
     "end_time": "2023-11-12T13:49:46.879603028Z",
     "start_time": "2023-11-12T13:49:46.867533181Z"
    }
   },
   "source": [
    "# import libraries\n",
    "import numpy as np\n",
    "import torch"
   ],
   "execution_count": 25,
   "outputs": []
  },
  {
   "cell_type": "markdown",
   "metadata": {
    "id": "uakMyq7UBzCP"
   },
   "source": [
    "# Using numpy"
   ]
  },
  {
   "cell_type": "code",
   "metadata": {
    "id": "nG3ur0N-AneX",
    "ExecuteTime": {
     "end_time": "2023-11-12T13:49:46.923772579Z",
     "start_time": "2023-11-12T13:49:46.877497112Z"
    }
   },
   "source": [
    "# create a vector\n",
    "nv = np.array([ [1,2,3,4] ])\n",
    "print(nv), print(' ')\n",
    "\n",
    "# transpose it\n",
    "print(nv.T), print(' ')\n",
    "\n",
    "# transpose the transpose!\n",
    "nvT = nv.T\n",
    "print(nvT.T)"
   ],
   "execution_count": 26,
   "outputs": [
    {
     "name": "stdout",
     "output_type": "stream",
     "text": [
      "[[1 2 3 4]]\n",
      " \n",
      "[[1]\n",
      " [2]\n",
      " [3]\n",
      " [4]]\n",
      " \n",
      "[[1 2 3 4]]\n"
     ]
    }
   ]
  },
  {
   "cell_type": "code",
   "metadata": {
    "id": "Vmr-MkomA6K9",
    "ExecuteTime": {
     "end_time": "2023-11-12T13:49:46.924324979Z",
     "start_time": "2023-11-12T13:49:46.921224604Z"
    }
   },
   "source": [
    "# repeat for a matrix\n",
    "nM = np.array([ [1,2,3,4],\n",
    "                [5,6,7,8] \n",
    "               ])\n",
    "print(nM), print(' ')\n",
    "\n",
    "# transpose it\n",
    "print(nM.T), print(' ')\n",
    "\n",
    "# transpose the transpose!\n",
    "nMT = nM.T\n",
    "print(nMT.T)"
   ],
   "execution_count": 27,
   "outputs": [
    {
     "name": "stdout",
     "output_type": "stream",
     "text": [
      "[[1 2 3 4]\n",
      " [5 6 7 8]]\n",
      " \n",
      "[[1 5]\n",
      " [2 6]\n",
      " [3 7]\n",
      " [4 8]]\n",
      " \n",
      "[[1 2 3 4]\n",
      " [5 6 7 8]]\n"
     ]
    }
   ]
  },
  {
   "cell_type": "markdown",
   "metadata": {
    "id": "oRLFXHk9BP1r"
   },
   "source": [
    "# Using pytorch"
   ]
  },
  {
   "cell_type": "code",
   "metadata": {
    "id": "Kjq-oGoUBTXs",
    "ExecuteTime": {
     "end_time": "2023-11-12T13:49:46.924798409Z",
     "start_time": "2023-11-12T13:49:46.921512Z"
    }
   },
   "source": [
    "# create a vector\n",
    "tv = torch.tensor([ [1,2,3,4] ])\n",
    "print(tv), print(' ')\n",
    "\n",
    "# transpose it\n",
    "print(tv.T), print(' ')\n",
    "\n",
    "# transpose the transpose!\n",
    "tvT = tv.T\n",
    "print(tvT.T)"
   ],
   "execution_count": 28,
   "outputs": [
    {
     "name": "stdout",
     "output_type": "stream",
     "text": [
      "tensor([[1, 2, 3, 4]])\n",
      " \n",
      "tensor([[1],\n",
      "        [2],\n",
      "        [3],\n",
      "        [4]])\n",
      " \n",
      "tensor([[1, 2, 3, 4]])\n"
     ]
    }
   ]
  },
  {
   "cell_type": "code",
   "metadata": {
    "id": "qwzG0O_aBfnv",
    "ExecuteTime": {
     "end_time": "2023-11-12T13:49:46.929885603Z",
     "start_time": "2023-11-12T13:49:46.921753111Z"
    }
   },
   "source": [
    "# repeat for a matrix\n",
    "tM = torch.tensor([ [1,2,3,4],[5,6,7,8] ])\n",
    "print(tM), print(' ')\n",
    "\n",
    "# transpose it\n",
    "print(tM.T), print(' ')\n",
    "\n",
    "# transpose the transpose!\n",
    "tMT = tM.T\n",
    "print(tMT.T)"
   ],
   "execution_count": 29,
   "outputs": [
    {
     "name": "stdout",
     "output_type": "stream",
     "text": [
      "tensor([[1, 2, 3, 4],\n",
      "        [5, 6, 7, 8]])\n",
      " \n",
      "tensor([[1, 5],\n",
      "        [2, 6],\n",
      "        [3, 7],\n",
      "        [4, 8]])\n",
      " \n",
      "tensor([[1, 2, 3, 4],\n",
      "        [5, 6, 7, 8]])\n"
     ]
    }
   ]
  },
  {
   "cell_type": "code",
   "metadata": {
    "id": "4J6zsIHoBfyp",
    "ExecuteTime": {
     "end_time": "2023-11-12T13:49:46.930582681Z",
     "start_time": "2023-11-12T13:49:46.922000747Z"
    }
   },
   "source": [
    "# examine data types\n",
    "print(f'Variable nv is of type {type(nv)}')\n",
    "print(f'Variable nM is of type {type(nM)}')\n",
    "print(f'Variable tv is of type {type(tv)}')\n",
    "print(f'Variable tM is of type {type(tM)}')\n"
   ],
   "execution_count": 30,
   "outputs": [
    {
     "name": "stdout",
     "output_type": "stream",
     "text": [
      "Variable nv is of type <class 'numpy.ndarray'>\n",
      "Variable nM is of type <class 'numpy.ndarray'>\n",
      "Variable tv is of type <class 'torch.Tensor'>\n",
      "Variable tM is of type <class 'torch.Tensor'>\n"
     ]
    }
   ]
  }
 ]
}
