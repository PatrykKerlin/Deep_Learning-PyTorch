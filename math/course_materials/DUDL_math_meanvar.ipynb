{
 "nbformat": 4,
 "nbformat_minor": 0,
 "metadata": {
  "colab": {
   "name": "DUDL_math_meanvar.ipynb",
   "provenance": [
    {
     "file_id": "1KX8lBi9Oey9iD2Aac8X6d-j3dMlyTodJ",
     "timestamp": 1617002781341
    }
   ],
   "collapsed_sections": [],
   "authorship_tag": "ABX9TyOq4j7MI+XdUF3fllmbwynp"
  },
  "kernelspec": {
   "name": "python3",
   "language": "python",
   "display_name": "Python 3 (ipykernel)"
  },
  "language_info": {
   "name": "python"
  }
 },
 "cells": [
  {
   "cell_type": "markdown",
   "metadata": {
    "id": "bhWV8oes-wKR"
   },
   "source": [
    "# COURSE: A deep understanding of deep learning\n",
    "## SECTION: Math prerequisites\n",
    "### LECTURE: Mean and variance\n",
    "#### TEACHER: Mike X Cohen, sincxpress.com\n",
    "##### COURSE URL: udemy.com/course/deeplearning_x/?couponCode=202305"
   ]
  },
  {
   "cell_type": "code",
   "metadata": {
    "id": "wYjuZD1kPb3g",
    "ExecuteTime": {
     "end_time": "2023-11-12T17:38:34.542295282Z",
     "start_time": "2023-11-12T17:38:34.516850211Z"
    }
   },
   "source": [
    "# import libraries\n",
    "import numpy as np"
   ],
   "execution_count": 1,
   "outputs": []
  },
  {
   "cell_type": "code",
   "metadata": {
    "id": "tJ_A2ykHS5RY",
    "ExecuteTime": {
     "end_time": "2023-11-12T17:38:34.548391128Z",
     "start_time": "2023-11-12T17:38:34.545922530Z"
    }
   },
   "source": [
    "# create a list of numbers to compute the mean and variance of\n",
    "x = [1, 2, 4, 6, 5, 4, 0]\n",
    "n = len(x)\n",
    "\n",
    "# compute the mean\n",
    "mean1 = np.mean(x)\n",
    "mean2 = np.sum(x) / n\n",
    "\n",
    "# print them\n",
    "print(mean1)\n",
    "print(mean2)"
   ],
   "execution_count": 2,
   "outputs": [
    {
     "name": "stdout",
     "output_type": "stream",
     "text": [
      "3.142857142857143\n",
      "3.142857142857143\n"
     ]
    }
   ]
  },
  {
   "cell_type": "code",
   "metadata": {
    "id": "QZaS568IThAr",
    "ExecuteTime": {
     "end_time": "2023-11-12T17:38:34.597268267Z",
     "start_time": "2023-11-12T17:38:34.550644393Z"
    }
   },
   "source": [
    "# variance\n",
    "\n",
    "var1 = np.var(x)\n",
    "var2 = (1 / (n - 1)) * np.sum((x - mean1) ** 2)\n",
    "\n",
    "print(var1)\n",
    "print(var2)"
   ],
   "execution_count": 3,
   "outputs": [
    {
     "name": "stdout",
     "output_type": "stream",
     "text": [
      "4.122448979591836\n",
      "4.809523809523809\n"
     ]
    }
   ]
  },
  {
   "cell_type": "code",
   "metadata": {
    "id": "oAUTsBE646fN",
    "ExecuteTime": {
     "end_time": "2023-11-12T17:38:34.597467274Z",
     "start_time": "2023-11-12T17:38:34.597033294Z"
    }
   },
   "source": [
    "# uh oh!\n",
    "\n",
    "var3 = np.var(x, ddof=1)\n",
    "\n",
    "print(var3)\n",
    "print(var2)"
   ],
   "execution_count": 4,
   "outputs": [
    {
     "name": "stdout",
     "output_type": "stream",
     "text": [
      "4.809523809523809\n",
      "4.809523809523809\n"
     ]
    }
   ]
  },
  {
   "cell_type": "code",
   "metadata": {
    "id": "mdoWX2Fx5JIy",
    "ExecuteTime": {
     "end_time": "2023-11-12T17:54:10.647526988Z",
     "start_time": "2023-11-12T17:54:10.343535179Z"
    }
   },
   "source": [
    "# does it matter for large N? \n",
    "\n",
    "N = 100000\n",
    "x = np.random.randint(0, high=20, size=N)\n",
    "\n",
    "var0 = np.var(x, ddof=0)  # default\n",
    "var1 = np.var(x, ddof=1)  # unbiased\n",
    "\n",
    "print(var0)\n",
    "print(var1)"
   ],
   "execution_count": 6,
   "outputs": [
    {
     "name": "stdout",
     "output_type": "stream",
     "text": [
      "33.253146127099996\n",
      "33.25347866188662\n"
     ]
    }
   ]
  }
 ]
}
