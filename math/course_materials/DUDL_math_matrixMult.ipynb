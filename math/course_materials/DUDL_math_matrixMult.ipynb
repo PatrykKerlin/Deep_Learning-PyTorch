{
 "nbformat": 4,
 "nbformat_minor": 0,
 "metadata": {
  "colab": {
   "name": "DUDL_math_matrixMult.ipynb",
   "provenance": [],
   "collapsed_sections": [],
   "authorship_tag": "ABX9TyN3xNttY0efRLiZkxgkBGe2"
  },
  "kernelspec": {
   "name": "python3",
   "language": "python",
   "display_name": "Python 3 (ipykernel)"
  },
  "language_info": {
   "name": "python"
  }
 },
 "cells": [
  {
   "cell_type": "markdown",
   "metadata": {
    "id": "bhWV8oes-wKR"
   },
   "source": [
    "# COURSE: A deep understanding of deep learning\n",
    "## SECTION: Math prerequisites\n",
    "### LECTURE: Matrix multiplication\n",
    "#### TEACHER: Mike X Cohen, sincxpress.com\n",
    "##### COURSE URL: udemy.com/course/deeplearning_x/?couponCode=202305"
   ]
  },
  {
   "cell_type": "code",
   "metadata": {
    "id": "vRQNyNtlDoOb",
    "ExecuteTime": {
     "end_time": "2023-11-12T15:14:09.161125251Z",
     "start_time": "2023-11-12T15:14:09.117389511Z"
    }
   },
   "source": [
    "# import libraries\n",
    "import numpy as np\n",
    "import torch"
   ],
   "execution_count": 10,
   "outputs": []
  },
  {
   "cell_type": "markdown",
   "metadata": {
    "id": "K0BSQG0fDpt_"
   },
   "source": [
    "# Using numpy"
   ]
  },
  {
   "cell_type": "code",
   "metadata": {
    "id": "T4_veEYqDpx9",
    "ExecuteTime": {
     "end_time": "2023-11-12T15:14:09.161534595Z",
     "start_time": "2023-11-12T15:14:09.161014223Z"
    }
   },
   "source": [
    "# create some random matrices\n",
    "A = np.random.randn(3,4)\n",
    "B = np.random.randn(4,5)\n",
    "C = np.random.randn(3,7)\n",
    "\n",
    "# try some multiplications...\n",
    "print(np.round( A@B   ,2)), print(' ')\n",
    "# print(np.round( A@C   ,2)), print(' ')\n",
    "# print(np.round( B@C   ,2)), print(' ')\n",
    "print(np.round( C.T@A ,2))"
   ],
   "execution_count": 11,
   "outputs": [
    {
     "name": "stdout",
     "output_type": "stream",
     "text": [
      "[[ 0.05 -0.23 -1.98  2.13 -0.75]\n",
      " [-0.19 -1.   -1.69  4.86 -0.97]\n",
      " [ 0.23 -1.26 -0.3   3.42 -0.19]]\n",
      " \n",
      "[[-0.9   0.85  0.18  1.02]\n",
      " [-1.94  1.41 -1.95  2.52]\n",
      " [ 2.13 -1.99  2.44 -2.87]\n",
      " [-2.11  2.13 -3.18  2.98]\n",
      " [ 1.01 -0.63  1.05 -1.31]\n",
      " [ 2.94 -2.87  4.17 -4.1 ]\n",
      " [ 0.08 -1.27  0.09 -0.23]]\n"
     ]
    }
   ]
  },
  {
   "cell_type": "markdown",
   "metadata": {
    "id": "89qsNy19Dp1U"
   },
   "source": [
    "# Using pytorch"
   ]
  },
  {
   "cell_type": "code",
   "metadata": {
    "id": "4Yrdf4WOEjxz",
    "ExecuteTime": {
     "end_time": "2023-11-12T15:14:09.162034271Z",
     "start_time": "2023-11-12T15:14:09.161236587Z"
    }
   },
   "source": [
    "# create some random matrices\n",
    "A  = torch.randn(3,4)\n",
    "B  = torch.randn(4,5)\n",
    "C1 = np.random.randn(4,7)\n",
    "C2 = torch.tensor( C1,dtype=torch.float )\n",
    "\n",
    "# try some multiplications...\n",
    "# print(np.round( A@B   ,2)), print(' ')\n",
    "# print(np.round( A@B.T ,2)), print(' ')\n",
    "print(np.round( A@C1  ,2)), print(' ')\n",
    "print(np.round( A@C2  ,2))"
   ],
   "execution_count": 12,
   "outputs": [
    {
     "name": "stdout",
     "output_type": "stream",
     "text": [
      "tensor([[-0.2800,  0.4500, -0.1500,  0.7500,  2.0400,  0.8200, -1.0700],\n",
      "        [-1.5000, -0.6100, -2.2800, -1.4600, -5.5500,  0.0800,  1.8700],\n",
      "        [-2.0300, -1.2300, -1.0400,  0.5900,  1.3800,  0.4300, -1.0700]],\n",
      "       dtype=torch.float64)\n",
      " \n",
      "tensor([[-0.2800,  0.4500, -0.1500,  0.7500,  2.0400,  0.8200, -1.0700],\n",
      "        [-1.5000, -0.6100, -2.2800, -1.4600, -5.5500,  0.0800,  1.8700],\n",
      "        [-2.0300, -1.2300, -1.0400,  0.5900,  1.3800,  0.4300, -1.0700]])\n"
     ]
    }
   ]
  }
 ]
}
