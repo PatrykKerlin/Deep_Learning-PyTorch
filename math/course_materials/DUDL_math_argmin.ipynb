{
 "nbformat": 4,
 "nbformat_minor": 0,
 "metadata": {
  "colab": {
   "name": "DUDL_math_argmin.ipynb",
   "provenance": [],
   "collapsed_sections": [],
   "authorship_tag": "ABX9TyOAnDMLXriVbV0NCcYRd0xe"
  },
  "kernelspec": {
   "name": "python3",
   "language": "python",
   "display_name": "Python 3 (ipykernel)"
  },
  "language_info": {
   "name": "python"
  }
 },
 "cells": [
  {
   "cell_type": "markdown",
   "metadata": {
    "id": "bhWV8oes-wKR"
   },
   "source": [
    "# COURSE: A deep understanding of deep learning\n",
    "## SECTION: Math prerequisites\n",
    "### LECTURE: Min/max and argmin/max\n",
    "#### TEACHER: Mike X Cohen, sincxpress.com\n",
    "##### COURSE URL: udemy.com/course/deeplearning_x/?couponCode=202305"
   ]
  },
  {
   "cell_type": "code",
   "metadata": {
    "id": "wYjuZD1kPb3g",
    "ExecuteTime": {
     "end_time": "2023-11-12T17:32:05.865866640Z",
     "start_time": "2023-11-12T17:32:05.846174223Z"
    }
   },
   "source": [
    "# import libraries\n",
    "import numpy as np\n",
    "import torch"
   ],
   "execution_count": 16,
   "outputs": []
  },
  {
   "cell_type": "markdown",
   "metadata": {
    "id": "8HsmHiC6Pf3t"
   },
   "source": [
    "# Using numpy"
   ]
  },
  {
   "cell_type": "code",
   "metadata": {
    "id": "eDMs2HT0Ph4r",
    "ExecuteTime": {
     "end_time": "2023-11-12T17:32:06.212578906Z",
     "start_time": "2023-11-12T17:32:05.896859920Z"
    }
   },
   "source": [
    "# create a vector\n",
    "v = np.array([1, 40, 2, -3])\n",
    "\n",
    "# find and report the maximum and minimum values\n",
    "minval = np.min(v)\n",
    "maxval = np.max(v)\n",
    "\n",
    "print('Min,max: %g,%g' % (minval, maxval))\n",
    "\n",
    "# now for the argmin/max\n",
    "minidx = np.argmin(v)\n",
    "maxidx = np.argmax(v)\n",
    "\n",
    "print('Min,max indices: %g,%g' % (minidx, maxidx)), print(' ')\n",
    "\n",
    "# confirm\n",
    "print(f'Min val is {v[minidx]}, max val is {v[maxidx]}')"
   ],
   "execution_count": 17,
   "outputs": [
    {
     "name": "stdout",
     "output_type": "stream",
     "text": [
      "Min,max: -3,40\n",
      "Min,max indices: 3,1\n",
      " \n",
      "Min val is -3, max val is 40\n"
     ]
    }
   ]
  },
  {
   "cell_type": "code",
   "metadata": {
    "id": "KVsOLZ66Ph7s",
    "ExecuteTime": {
     "end_time": "2023-11-12T17:32:06.213427359Z",
     "start_time": "2023-11-12T17:32:05.897090459Z"
    }
   },
   "source": [
    "# repeat with matrix\n",
    "M = np.array([[0, 1, 10], [20, 8, 5]])\n",
    "print(M), print(' ')\n",
    "\n",
    "# various minima in this matrix!\n",
    "minvals1 = np.min(M)  # minimum from ENTIRE matrix\n",
    "minvals2 = np.min(M, axis=0)  # minimum of each column (across rows)\n",
    "minvals3 = np.min(M, axis=1)  # minimum of each row (across columns)\n",
    "\n",
    "# print them out\n",
    "print(minvals1)\n",
    "print(minvals2)\n",
    "print(minvals3)"
   ],
   "execution_count": 18,
   "outputs": [
    {
     "name": "stdout",
     "output_type": "stream",
     "text": [
      "[[ 0  1 10]\n",
      " [20  8  5]]\n",
      " \n",
      "0\n",
      "[0 1 5]\n",
      "[0 5]\n"
     ]
    }
   ]
  },
  {
   "cell_type": "code",
   "metadata": {
    "id": "KygYLWYoTIT4",
    "ExecuteTime": {
     "end_time": "2023-11-12T17:32:06.213990113Z",
     "start_time": "2023-11-12T17:32:05.897264475Z"
    }
   },
   "source": [
    "# various minima in this matrix!\n",
    "minidx1 = np.argmin(M)  # minimum from ENTIRE matrix\n",
    "minidx2 = np.argmin(M, axis=0)  # minimum of each column (across rows)\n",
    "minidx3 = np.argmin(M, axis=1)  # minimum of each row (across columns)\n",
    "\n",
    "# print them out\n",
    "print(M), print(' ')  # reminder\n",
    "print(minidx1)\n",
    "print(minidx2)\n",
    "print(minidx3)"
   ],
   "execution_count": 19,
   "outputs": [
    {
     "name": "stdout",
     "output_type": "stream",
     "text": [
      "[[ 0  1 10]\n",
      " [20  8  5]]\n",
      " \n",
      "0\n",
      "[0 0 1]\n",
      "[0 2]\n"
     ]
    }
   ]
  },
  {
   "cell_type": "markdown",
   "metadata": {
    "id": "-M4TujzAR5vb"
   },
   "source": [
    "# Now using pytorch"
   ]
  },
  {
   "cell_type": "code",
   "metadata": {
    "id": "4wYM8pGRR76s",
    "ExecuteTime": {
     "end_time": "2023-11-12T17:32:06.214511454Z",
     "start_time": "2023-11-12T17:32:05.897410728Z"
    }
   },
   "source": [
    "# create a vector\n",
    "v = torch.tensor([1, 40, 2, -3])\n",
    "\n",
    "# find and report the maximum and minimum values\n",
    "minval = torch.min(v)\n",
    "maxval = torch.max(v)\n",
    "\n",
    "print('Min,max: %g,%g' % (minval, maxval))\n",
    "\n",
    "# now for the argmin/max\n",
    "minidx = torch.argmin(v)\n",
    "maxidx = torch.argmax(v)\n",
    "\n",
    "print('Min,max indices: %g,%g' % (minidx, maxidx)), print(' ')\n",
    "\n",
    "# confirm\n",
    "print(f'Min val is {v[minidx]}, max val is {v[maxidx]}')"
   ],
   "execution_count": 20,
   "outputs": [
    {
     "name": "stdout",
     "output_type": "stream",
     "text": [
      "Min,max: -3,40\n",
      "Min,max indices: 3,1\n",
      " \n",
      "Min val is -3, max val is 40\n"
     ]
    }
   ]
  },
  {
   "cell_type": "code",
   "metadata": {
    "id": "7AP93vgZR788",
    "ExecuteTime": {
     "end_time": "2023-11-12T17:32:06.215019140Z",
     "start_time": "2023-11-12T17:32:05.897543285Z"
    }
   },
   "source": [
    "# repeat with matrix\n",
    "M = torch.tensor([[0, 1, 10], [20, 8, 5]])\n",
    "print(M), print(' ')\n",
    "\n",
    "# various minima in this matrix!\n",
    "min1 = torch.min(M)  # minimum from ENTIRE matrix\n",
    "min2 = torch.min(M, dim=0)  # minimum of each column (across rows)\n",
    "min3 = torch.min(M, dim=1)  # minimum of each row (across columns)\n",
    "\n",
    "# print them out\n",
    "print(min1), print(' ')\n",
    "print(min2), print(' ')\n",
    "print(min2.values)\n",
    "print(min2.indices)"
   ],
   "execution_count": 21,
   "outputs": [
    {
     "name": "stdout",
     "output_type": "stream",
     "text": [
      "tensor([[ 0,  1, 10],\n",
      "        [20,  8,  5]])\n",
      " \n",
      "tensor(0)\n",
      " \n",
      "torch.return_types.min(\n",
      "values=tensor([0, 1, 5]),\n",
      "indices=tensor([0, 0, 1]))\n",
      " \n",
      "tensor([0, 1, 5])\n",
      "tensor([0, 0, 1])\n"
     ]
    }
   ]
  }
 ]
}
