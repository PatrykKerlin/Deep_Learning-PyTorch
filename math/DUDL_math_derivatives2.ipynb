{
 "nbformat": 4,
 "nbformat_minor": 0,
 "metadata": {
  "colab": {
   "name": "DUDL_math_derivatives2.ipynb",
   "provenance": [],
   "collapsed_sections": [],
   "authorship_tag": "ABX9TyOR72BPWb6K8zjZtQ9R8TZj"
  },
  "kernelspec": {
   "name": "python3",
   "language": "python",
   "display_name": "Python 3 (ipykernel)"
  },
  "language_info": {
   "name": "python"
  }
 },
 "cells": [
  {
   "cell_type": "markdown",
   "metadata": {
    "id": "bhWV8oes-wKR"
   },
   "source": [
    "# COURSE: A deep understanding of deep learning\n",
    "## SECTION: Math prerequisites\n",
    "### LECTURE: Derivatives: product and chain rules\n",
    "#### TEACHER: Mike X Cohen, sincxpress.com\n",
    "##### COURSE URL: udemy.com/course/deeplearning_x/?couponCode=202305"
   ]
  },
  {
   "cell_type": "code",
   "metadata": {
    "id": "YvEj7AGdffUn",
    "ExecuteTime": {
     "end_time": "2023-11-12T19:48:45.314688889Z",
     "start_time": "2023-11-12T19:48:45.226099959Z"
    }
   },
   "source": [
    "# import libraries\n",
    "import sympy as sym\n",
    "\n",
    "# make the equations look nicer\n",
    "from IPython.display import display"
   ],
   "execution_count": 4,
   "outputs": []
  },
  {
   "cell_type": "code",
   "metadata": {
    "id": "2WUCrL06fngf",
    "ExecuteTime": {
     "end_time": "2023-11-12T19:48:45.317331554Z",
     "start_time": "2023-11-12T19:48:45.273325440Z"
    }
   },
   "source": [
    "# create symbolic variables in sympy\n",
    "x = sym.symbols('x')\n",
    "\n",
    "# create two functions\n",
    "fx = 2 * x ** 2\n",
    "gx = 4 * x ** 3 - 3 * x ** 4\n",
    "\n",
    "# compute their individual derivatives\n",
    "df = sym.diff(fx)\n",
    "dg = sym.diff(gx)\n",
    "\n",
    "# apply the product rule \"manually\"\n",
    "manual = df * gx + fx * dg\n",
    "thewrongway = df * dg\n",
    "\n",
    "# via sympy\n",
    "viasympy = sym.diff(fx * gx)\n",
    "\n",
    "# print everything\n",
    "print('The functions:')\n",
    "display(fx)\n",
    "display(gx)\n",
    "print(' ')\n",
    "\n",
    "print('Their derivatives:')\n",
    "display(df)\n",
    "display(dg)\n",
    "print(' ')\n",
    "\n",
    "print('Manual product rule:')\n",
    "display(manual)\n",
    "print(' ')\n",
    "\n",
    "print('Via sympy:')\n",
    "display(viasympy)\n",
    "print(' ')\n",
    "\n",
    "print('The wrong way:')\n",
    "display(thewrongway)"
   ],
   "execution_count": 5,
   "outputs": [
    {
     "name": "stdout",
     "output_type": "stream",
     "text": [
      "The functions:\n"
     ]
    },
    {
     "data": {
      "text/plain": "2*x**2",
      "text/latex": "$\\displaystyle 2 x^{2}$"
     },
     "metadata": {},
     "output_type": "display_data"
    },
    {
     "data": {
      "text/plain": "-3*x**4 + 4*x**3",
      "text/latex": "$\\displaystyle - 3 x^{4} + 4 x^{3}$"
     },
     "metadata": {},
     "output_type": "display_data"
    },
    {
     "name": "stdout",
     "output_type": "stream",
     "text": [
      " \n",
      "Their derivatives:\n"
     ]
    },
    {
     "data": {
      "text/plain": "4*x",
      "text/latex": "$\\displaystyle 4 x$"
     },
     "metadata": {},
     "output_type": "display_data"
    },
    {
     "data": {
      "text/plain": "-12*x**3 + 12*x**2",
      "text/latex": "$\\displaystyle - 12 x^{3} + 12 x^{2}$"
     },
     "metadata": {},
     "output_type": "display_data"
    },
    {
     "name": "stdout",
     "output_type": "stream",
     "text": [
      " \n",
      "Manual product rule:\n"
     ]
    },
    {
     "data": {
      "text/plain": "2*x**2*(-12*x**3 + 12*x**2) + 4*x*(-3*x**4 + 4*x**3)",
      "text/latex": "$\\displaystyle 2 x^{2} \\left(- 12 x^{3} + 12 x^{2}\\right) + 4 x \\left(- 3 x^{4} + 4 x^{3}\\right)$"
     },
     "metadata": {},
     "output_type": "display_data"
    },
    {
     "name": "stdout",
     "output_type": "stream",
     "text": [
      " \n",
      "Via sympy:\n"
     ]
    },
    {
     "data": {
      "text/plain": "2*x**2*(-12*x**3 + 12*x**2) + 4*x*(-3*x**4 + 4*x**3)",
      "text/latex": "$\\displaystyle 2 x^{2} \\left(- 12 x^{3} + 12 x^{2}\\right) + 4 x \\left(- 3 x^{4} + 4 x^{3}\\right)$"
     },
     "metadata": {},
     "output_type": "display_data"
    },
    {
     "name": "stdout",
     "output_type": "stream",
     "text": [
      " \n",
      "The wrong way:\n"
     ]
    },
    {
     "data": {
      "text/plain": "4*x*(-12*x**3 + 12*x**2)",
      "text/latex": "$\\displaystyle 4 x \\left(- 12 x^{3} + 12 x^{2}\\right)$"
     },
     "metadata": {},
     "output_type": "display_data"
    }
   ]
  },
  {
   "cell_type": "code",
   "metadata": {
    "id": "MSxztQoagCVt",
    "ExecuteTime": {
     "end_time": "2023-11-12T19:48:45.318453542Z",
     "start_time": "2023-11-12T19:48:45.274511605Z"
    }
   },
   "source": [
    "# repeat with chain rule\n",
    "gx = x ** 2 + 4 * x ** 3\n",
    "fx = gx ** 5\n",
    "\n",
    "print('The function:')\n",
    "display(fx)\n",
    "print(' ')\n",
    "\n",
    "print('Its derivative:')\n",
    "display(sym.diff(fx))"
   ],
   "execution_count": 6,
   "outputs": [
    {
     "name": "stdout",
     "output_type": "stream",
     "text": [
      "The function:\n"
     ]
    },
    {
     "data": {
      "text/plain": "(4*x**3 + x**2)**5",
      "text/latex": "$\\displaystyle \\left(4 x^{3} + x^{2}\\right)^{5}$"
     },
     "metadata": {},
     "output_type": "display_data"
    },
    {
     "name": "stdout",
     "output_type": "stream",
     "text": [
      " \n",
      "Its derivative:\n"
     ]
    },
    {
     "data": {
      "text/plain": "(60*x**2 + 10*x)*(4*x**3 + x**2)**4",
      "text/latex": "$\\displaystyle \\left(60 x^{2} + 10 x\\right) \\left(4 x^{3} + x^{2}\\right)^{4}$"
     },
     "metadata": {},
     "output_type": "display_data"
    }
   ]
  }
 ]
}
