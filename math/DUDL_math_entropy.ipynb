{
 "nbformat": 4,
 "nbformat_minor": 0,
 "metadata": {
  "colab": {
   "name": "DUDL_math_entropy.ipynb",
   "provenance": [
    {
     "file_id": "1oDaogKfz9gQYSAyQT-uF9xRI3EdrtokO",
     "timestamp": 1618209287295
    }
   ],
   "collapsed_sections": [],
   "authorship_tag": "ABX9TyMRoL9KQhvp4fYI9oP/TtpK"
  },
  "kernelspec": {
   "name": "python3",
   "language": "python",
   "display_name": "Python 3 (ipykernel)"
  },
  "language_info": {
   "name": "python"
  }
 },
 "cells": [
  {
   "cell_type": "markdown",
   "metadata": {
    "id": "bhWV8oes-wKR"
   },
   "source": [
    "# COURSE: A deep understanding of deep learning\n",
    "## SECTION: Math prerequisites\n",
    "### LECTURE: Entropy and cross-entropy\n",
    "#### TEACHER: Mike X Cohen, sincxpress.com\n",
    "##### COURSE URL: udemy.com/course/deeplearning_x/?couponCode=202305"
   ]
  },
  {
   "cell_type": "code",
   "metadata": {
    "id": "2TD8IyfBGXiY",
    "ExecuteTime": {
     "end_time": "2023-11-12T17:14:23.213804779Z",
     "start_time": "2023-11-12T17:14:23.189027382Z"
    }
   },
   "source": [
    "# import libraries\n",
    "import numpy as np"
   ],
   "execution_count": 29,
   "outputs": []
  },
  {
   "cell_type": "markdown",
   "metadata": {
    "id": "yo63BJPf0cau"
   },
   "source": [
    "# Reminder of entropy:\n",
    "\n",
    "$$H(p) = -\\sum_x p(x)\\log(p(x))$$"
   ]
  },
  {
   "cell_type": "code",
   "metadata": {
    "id": "vmjUxlEqGbDu",
    "ExecuteTime": {
     "end_time": "2023-11-12T17:14:23.361400359Z",
     "start_time": "2023-11-12T17:14:23.236856538Z"
    }
   },
   "source": [
    "# probability of an event happening\n",
    "p = .25  # probability of only that the event will happen\n",
    "\n",
    "# NOT the correct formula!\n",
    "H = -(p * np.log(p))\n",
    "print('Wrong entropy: ' + str(H))"
   ],
   "execution_count": 30,
   "outputs": [
    {
     "name": "stdout",
     "output_type": "stream",
     "text": [
      "Wrong entropy: 0.34657359027997264\n"
     ]
    }
   ]
  },
  {
   "cell_type": "code",
   "metadata": {
    "id": "HdZadwd12RGv",
    "ExecuteTime": {
     "end_time": "2023-11-12T17:14:23.361786108Z",
     "start_time": "2023-11-12T17:14:23.237021602Z"
    }
   },
   "source": [
    "# the correct way to compute entropy\n",
    "x = [.25, .75]  # probability of tah the event will happen and will not happen\n",
    "\n",
    "H = 0\n",
    "for p in x:\n",
    "    H += -(p * np.log(p))\n",
    "\n",
    "print('Correct entropy: ' + str(H))"
   ],
   "execution_count": 31,
   "outputs": [
    {
     "name": "stdout",
     "output_type": "stream",
     "text": [
      "Correct entropy: 0.5623351446188083\n"
     ]
    }
   ]
  },
  {
   "cell_type": "code",
   "metadata": {
    "id": "R_bGT7kd2ipR",
    "ExecuteTime": {
     "end_time": "2023-11-12T17:14:23.361966888Z",
     "start_time": "2023-11-12T17:14:23.237136662Z"
    }
   },
   "source": [
    "# also correct, written out for N=2 events\n",
    "H = -(p * np.log(p) + (1 - p) * np.log(1 - p))\n",
    "print('Correct entropy: ' + str(H))"
   ],
   "execution_count": 32,
   "outputs": [
    {
     "name": "stdout",
     "output_type": "stream",
     "text": [
      "Correct entropy: 0.5623351446188083\n"
     ]
    }
   ]
  },
  {
   "cell_type": "markdown",
   "metadata": {
    "id": "qFN5779d1ebD"
   },
   "source": [
    "# Cross-entropy"
   ]
  },
  {
   "cell_type": "code",
   "metadata": {
    "id": "sOug_tPzHY1y",
    "ExecuteTime": {
     "end_time": "2023-11-12T17:14:23.362138029Z",
     "start_time": "2023-11-12T17:14:23.237241416Z"
    }
   },
   "source": [
    "# note: all probs must sum to 1!\n",
    "p = [1, 0]  # sum=1\n",
    "q = [.25, .75]  # sum=1\n",
    "\n",
    "H = 0\n",
    "for i in range(len(p)):\n",
    "    H -= p[i] * np.log(q[i])\n",
    "\n",
    "print('Cross entropy: ' + str(H))"
   ],
   "execution_count": 33,
   "outputs": [
    {
     "name": "stdout",
     "output_type": "stream",
     "text": [
      "Cross entropy: 1.3862943611198906\n"
     ]
    }
   ]
  },
  {
   "cell_type": "code",
   "metadata": {
    "id": "8H1p7JUr3Pn4",
    "ExecuteTime": {
     "end_time": "2023-11-12T17:14:23.362277374Z",
     "start_time": "2023-11-12T17:14:23.237341867Z"
    }
   },
   "source": [
    "# also correct, written out for N=2 events\n",
    "H = -(p[0] * np.log(q[0]) + p[1] * np.log(q[1]))\n",
    "print('Correct entropy: ' + str(H))\n",
    "\n",
    "# simplification\n",
    "H = -np.log(q[0])\n",
    "print('Manually simplified: ' + str(H))"
   ],
   "execution_count": 34,
   "outputs": [
    {
     "name": "stdout",
     "output_type": "stream",
     "text": [
      "Correct entropy: 1.3862943611198906\n",
      "Manually simplified: 1.3862943611198906\n"
     ]
    }
   ]
  },
  {
   "cell_type": "code",
   "metadata": {
    "id": "fAHoba2V4QgO",
    "ExecuteTime": {
     "end_time": "2023-11-12T17:14:23.362475325Z",
     "start_time": "2023-11-12T17:14:23.237493117Z"
    }
   },
   "source": [
    "# now using pytorch\n",
    "import torch\n",
    "import torch.nn.functional as f\n",
    "\n",
    "# note: inputs must be Tensors\n",
    "q_tensor = torch.Tensor(q)\n",
    "p_tensor = torch.Tensor(p)\n",
    "\n",
    "f.binary_cross_entropy(q_tensor, p_tensor)"
   ],
   "execution_count": 35,
   "outputs": [
    {
     "data": {
      "text/plain": "tensor(1.3863)"
     },
     "execution_count": 35,
     "metadata": {},
     "output_type": "execute_result"
    }
   ]
  }
 ]
}
