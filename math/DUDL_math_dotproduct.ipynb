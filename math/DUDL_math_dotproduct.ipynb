{
 "nbformat": 4,
 "nbformat_minor": 0,
 "metadata": {
  "colab": {
   "name": "DUDL_math_dotproduct.ipynb",
   "provenance": [
    {
     "file_id": "1Cq_BWix2q_95q84lMxiEDIWrIkDR3XPL",
     "timestamp": 1616435155528
    }
   ],
   "collapsed_sections": [],
   "authorship_tag": "ABX9TyP/ls4M2Pg6e1QkL9G6yDZM"
  },
  "kernelspec": {
   "name": "python3",
   "language": "python",
   "display_name": "Python 3 (ipykernel)"
  },
  "language_info": {
   "name": "python"
  }
 },
 "cells": [
  {
   "cell_type": "markdown",
   "metadata": {
    "id": "bhWV8oes-wKR"
   },
   "source": [
    "# COURSE: A deep understanding of deep learning\n",
    "## SECTION: Math prerequisites\n",
    "### LECTURE: OMG it's the dot product!\n",
    "#### TEACHER: Mike X Cohen, sincxpress.com\n",
    "##### COURSE URL: udemy.com/course/deeplearning_x/?couponCode=202305"
   ]
  },
  {
   "cell_type": "code",
   "metadata": {
    "id": "Yx_Rigz1AffS",
    "ExecuteTime": {
     "end_time": "2023-11-12T14:08:03.765358427Z",
     "start_time": "2023-11-12T14:08:03.742310364Z"
    }
   },
   "source": [
    "# import libraries\n",
    "import numpy as np\n",
    "import torch"
   ],
   "execution_count": 24,
   "outputs": []
  },
  {
   "cell_type": "markdown",
   "metadata": {
    "id": "uakMyq7UBzCP"
   },
   "source": [
    "# Using numpy"
   ]
  },
  {
   "cell_type": "code",
   "metadata": {
    "id": "nG3ur0N-AneX",
    "ExecuteTime": {
     "end_time": "2023-11-12T14:08:03.806813701Z",
     "start_time": "2023-11-12T14:08:03.749723324Z"
    }
   },
   "source": [
    "# create a vector\n",
    "nv1 = np.array([1, 2, 3, 4])\n",
    "nv2 = np.array([0, 1, 0, -1])\n",
    "\n",
    "# dot product via function\n",
    "print(np.dot(nv1, nv2))\n",
    "\n",
    "# dot product via computation\n",
    "print(np.sum(nv1 * nv2))"
   ],
   "execution_count": 25,
   "outputs": [
    {
     "name": "stdout",
     "output_type": "stream",
     "text": [
      "-2\n",
      "-2\n"
     ]
    }
   ]
  },
  {
   "cell_type": "markdown",
   "metadata": {
    "id": "oRLFXHk9BP1r"
   },
   "source": [
    "# Using pytorch"
   ]
  },
  {
   "cell_type": "code",
   "metadata": {
    "id": "Kjq-oGoUBTXs",
    "ExecuteTime": {
     "end_time": "2023-11-12T14:08:03.807486377Z",
     "start_time": "2023-11-12T14:08:03.793463303Z"
    }
   },
   "source": [
    "# create a vector\n",
    "tv1 = torch.tensor([1, 2, 3, 4])\n",
    "tv2 = torch.tensor([0, 1, 0, -1])\n",
    "\n",
    "# dot product via function\n",
    "print(torch.dot(tv1, tv2))\n",
    "\n",
    "# dot product via computation\n",
    "print(torch.sum(tv1 * tv2))"
   ],
   "execution_count": 27,
   "outputs": [
    {
     "name": "stdout",
     "output_type": "stream",
     "text": [
      "tensor(-2)\n",
      "tensor(-2)\n"
     ]
    }
   ]
  }
 ]
}
